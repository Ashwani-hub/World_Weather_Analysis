{
 "cells": [
  {
   "cell_type": "code",
   "execution_count": 1,
   "id": "dc6d30d6",
   "metadata": {},
   "outputs": [],
   "source": [
    "# Import the random module.\n",
    "import random"
   ]
  },
  {
   "cell_type": "code",
   "execution_count": 2,
   "id": "f8980e8a",
   "metadata": {},
   "outputs": [
    {
     "data": {
      "text/plain": [
       "75"
      ]
     },
     "execution_count": 2,
     "metadata": {},
     "output_type": "execute_result"
    }
   ],
   "source": [
    "#Using randint\n",
    "random.randint(-90, 90)"
   ]
  },
  {
   "cell_type": "code",
   "execution_count": 3,
   "id": "01a9a43a",
   "metadata": {},
   "outputs": [
    {
     "data": {
      "text/plain": [
       "0.11499052719002767"
      ]
     },
     "execution_count": 3,
     "metadata": {},
     "output_type": "execute_result"
    }
   ],
   "source": [
    "# Using random\n",
    "random.random()"
   ]
  },
  {
   "cell_type": "code",
   "execution_count": 4,
   "id": "66c6842b",
   "metadata": {},
   "outputs": [
    {
     "data": {
      "text/plain": [
       "50.52288217349905"
      ]
     },
     "execution_count": 4,
     "metadata": {},
     "output_type": "execute_result"
    }
   ],
   "source": [
    "# Combining randint and random\n",
    "random_number = random.randint(-90,89) + random.random()\n",
    "random_number"
   ]
  },
  {
   "cell_type": "code",
   "execution_count": 5,
   "id": "b4e328e1",
   "metadata": {},
   "outputs": [
    {
     "name": "stdout",
     "output_type": "stream",
     "text": [
      "[-0.5633842098909261, 22.37087718530005, -35.07349811819825, -31.584888158406994, 8.507013413786776, 46.00009615447274, 8.765157455848883, 28.099722364066228, -75.39659576542961, -84.90374540068224]\n"
     ]
    }
   ],
   "source": [
    "# Generating random Latitudes\n",
    "x = 1\n",
    "latitudes = []\n",
    "while x < 11:\n",
    "    random_lat = random.randint(-90, 89) + random.random()\n",
    "    latitudes.append(random_lat)\n",
    "    x +=1\n",
    "print(latitudes)"
   ]
  },
  {
   "cell_type": "code",
   "execution_count": 6,
   "id": "8bf9190f",
   "metadata": {},
   "outputs": [
    {
     "data": {
      "text/plain": [
       "78"
      ]
     },
     "execution_count": 6,
     "metadata": {},
     "output_type": "execute_result"
    }
   ],
   "source": [
    "#Using randrange() Function\n",
    "random.randrange(-90, 90, step = 3)"
   ]
  },
  {
   "cell_type": "code",
   "execution_count": 7,
   "id": "32169e40",
   "metadata": {},
   "outputs": [
    {
     "data": {
      "text/plain": [
       "[134.4990464905108,\n",
       " 49.212410814429184,\n",
       " -161.96216697642217,\n",
       " 100.09004242249067,\n",
       " 145.9203510965641,\n",
       " -169.72325922558855,\n",
       " 102.02178510094095,\n",
       " -165.866739214974,\n",
       " -59.776594262379426,\n",
       " 104.67286834749417]"
      ]
     },
     "execution_count": 7,
     "metadata": {},
     "output_type": "execute_result"
    }
   ],
   "source": [
    "# Generating random Longitudes using randint random\n",
    "x = 1\n",
    "longitude = []\n",
    "while x < 11:\n",
    "    random_lon = random.randint(-180, 180) + random.random()\n",
    "    longitude.append(random_lon)\n",
    "    x +=1\n",
    "longitude"
   ]
  },
  {
   "cell_type": "code",
   "execution_count": 10,
   "id": "cf6ffdba",
   "metadata": {},
   "outputs": [
    {
     "data": {
      "text/plain": [
       "-33"
      ]
     },
     "execution_count": 10,
     "metadata": {},
     "output_type": "execute_result"
    }
   ],
   "source": [
    "# Generating random Latitude using randrange\n",
    "random.randrange(-90, 90, step=3)"
   ]
  },
  {
   "cell_type": "code",
   "execution_count": null,
   "id": "323aee6e",
   "metadata": {},
   "outputs": [],
   "source": []
  },
  {
   "cell_type": "code",
   "execution_count": 11,
   "id": "dcfeaffc",
   "metadata": {},
   "outputs": [
    {
     "data": {
      "text/plain": [
       "-21.883104305723947"
      ]
     },
     "execution_count": 11,
     "metadata": {},
     "output_type": "execute_result"
    }
   ],
   "source": [
    "random.uniform(-90, 90)"
   ]
  },
  {
   "cell_type": "code",
   "execution_count": 12,
   "id": "47e93c16",
   "metadata": {},
   "outputs": [],
   "source": [
    "# Import the NumPy module\n",
    "import numpy as np"
   ]
  },
  {
   "cell_type": "code",
   "execution_count": 13,
   "id": "59565d78",
   "metadata": {},
   "outputs": [
    {
     "data": {
      "text/plain": [
       "-46.18905579933495"
      ]
     },
     "execution_count": 13,
     "metadata": {},
     "output_type": "execute_result"
    }
   ],
   "source": [
    "np.random.uniform(-90.000, 90.000)"
   ]
  },
  {
   "cell_type": "code",
   "execution_count": 14,
   "id": "76024a27",
   "metadata": {},
   "outputs": [
    {
     "data": {
      "text/plain": [
       "array([23698.27801493, 37656.95361367, 30992.26981623, 21180.29137937,\n",
       "       47895.10307749, 18944.49135484, 78150.4469885 , 36032.20545952,\n",
       "       49697.88076054, 77717.14404931, 10688.93342168, 36432.82992553,\n",
       "       40586.24798103,  9401.99925933, 58847.02566912, 72173.77290394,\n",
       "       68124.05336069, 83703.57435267, 63646.2480934 , 59302.98912273,\n",
       "        4861.48044225, 48867.65543817, 85532.05893679, 82265.38083499,\n",
       "        4667.39280747, 75006.57856016,   425.48215839, 68514.81532976,\n",
       "       36786.43554372, 43527.74633625, 76875.80214112, 23242.12804596,\n",
       "        2027.80165555,  2796.63175467, 14987.83453049, 27845.75540741,\n",
       "       25261.02801005,  7720.63334846, 62816.41238729,   688.04427438,\n",
       "       43315.28470324, 89052.54764809, 70888.19612857,  3032.74830519,\n",
       "       43386.58612877, 50749.57285551, 33052.17609875, 51386.59378594,\n",
       "       80107.11890963, 82728.8197486 ])"
      ]
     },
     "execution_count": 14,
     "metadata": {},
     "output_type": "execute_result"
    }
   ],
   "source": [
    "np.random.uniform(90.000,90000,size=50)"
   ]
  },
  {
   "cell_type": "code",
   "execution_count": 15,
   "id": "1105e0c2",
   "metadata": {},
   "outputs": [
    {
     "name": "stdout",
     "output_type": "stream",
     "text": [
      "13.9 µs ± 79.4 ns per loop (mean ± std. dev. of 7 runs, 100000 loops each)\n"
     ]
    }
   ],
   "source": [
    "#import timeit\n",
    "import timeit\n",
    "%timeit np.random.uniform(-90.000, 90.000, size=1500)"
   ]
  },
  {
   "cell_type": "code",
   "execution_count": 16,
   "id": "0367adeb",
   "metadata": {},
   "outputs": [
    {
     "name": "stdout",
     "output_type": "stream",
     "text": [
      "1.82 ms ± 82.8 µs per loop (mean ± std. dev. of 7 runs, 1000 loops each)\n"
     ]
    }
   ],
   "source": [
    "def latitudes(size):\n",
    "    latitudes = []\n",
    "    x = 0\n",
    "    while x < (size):\n",
    "        random_lat = random.randint(-90, 90) + random.random()\n",
    "        latitudes.append(random_lat)\n",
    "        x += 1\n",
    "    return latitudes\n",
    "# Call the function with 1500.\n",
    "%timeit latitudes(1500)"
   ]
  }
 ],
 "metadata": {
  "kernelspec": {
   "display_name": "PythonData",
   "language": "python",
   "name": "pythondata"
  },
  "language_info": {
   "codemirror_mode": {
    "name": "ipython",
    "version": 3
   },
   "file_extension": ".py",
   "mimetype": "text/x-python",
   "name": "python",
   "nbconvert_exporter": "python",
   "pygments_lexer": "ipython3",
   "version": "3.7.10"
  }
 },
 "nbformat": 4,
 "nbformat_minor": 5
}
